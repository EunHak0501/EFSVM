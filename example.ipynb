{
 "cells": [
  {
   "metadata": {
    "ExecuteTime": {
     "end_time": "2025-05-26T16:02:44.735587Z",
     "start_time": "2025-05-26T16:02:44.601708Z"
    }
   },
   "cell_type": "code",
   "source": [
    "import numpy as np\n",
    "import pandas as pd\n",
    "from sklearn.metrics import (\n",
    "    accuracy_score,\n",
    "    f1_score,\n",
    ")\n",
    "from sklearn.model_selection import train_test_split\n",
    "from tqdm import tqdm\n",
    "\n",
    "from EFSVM_basic_osqp import custom_EFSVM"
   ],
   "id": "56aec85199aca8ec",
   "outputs": [],
   "execution_count": 1
  },
  {
   "metadata": {
    "ExecuteTime": {
     "end_time": "2025-05-26T16:02:47.639880Z",
     "start_time": "2025-05-26T16:02:47.607386Z"
    }
   },
   "cell_type": "code",
   "source": [
    "import seaborn as sns\n",
    "\n",
    "# Data load\n",
    "data_ = sns.load_dataset('titanic')\n",
    "\n",
    "# Data dropna\n",
    "data_['age'] = data_['age'].fillna(data_['age'].mean())\n",
    "data_ = data_.drop('deck',axis=1)\n",
    "data_ = data_.dropna(axis=0)\n",
    "\n",
    "# encoding\n",
    "replace_sex = {'male': 1, 'female': 0}\n",
    "data_['sex'] = data_['sex'].replace(replace_sex)\n",
    "data_['sex'].value_counts()\n",
    "\n",
    "replace_embark = {'Southampton': 3, 'Cherbourg': 2, 'Queenstown': 1}\n",
    "data_['embark_town'] = data_['embark_town'].replace(replace_embark)\n",
    "data_ = data_.drop(['embarked','class','who','adult_male','alive','alone'], axis=1)\n",
    "\n",
    "data_['survived'] = data_['survived'].replace({0:-1})\n",
    "data_['survived'].value_counts()"
   ],
   "id": "a3fda1c1a929cd5a",
   "outputs": [
    {
     "name": "stderr",
     "output_type": "stream",
     "text": [
      "C:\\Users\\eunhak\\AppData\\Local\\Temp\\ipykernel_11188\\1220432762.py:13: FutureWarning: Downcasting behavior in `replace` is deprecated and will be removed in a future version. To retain the old behavior, explicitly call `result.infer_objects(copy=False)`. To opt-in to the future behavior, set `pd.set_option('future.no_silent_downcasting', True)`\n",
      "  data_['sex'] = data_['sex'].replace(replace_sex)\n",
      "C:\\Users\\eunhak\\AppData\\Local\\Temp\\ipykernel_11188\\1220432762.py:17: FutureWarning: Downcasting behavior in `replace` is deprecated and will be removed in a future version. To retain the old behavior, explicitly call `result.infer_objects(copy=False)`. To opt-in to the future behavior, set `pd.set_option('future.no_silent_downcasting', True)`\n",
      "  data_['embark_town'] = data_['embark_town'].replace(replace_embark)\n"
     ]
    },
    {
     "data": {
      "text/plain": [
       "survived\n",
       "-1    549\n",
       " 1    340\n",
       "Name: count, dtype: int64"
      ]
     },
     "execution_count": 2,
     "metadata": {},
     "output_type": "execute_result"
    }
   ],
   "execution_count": 2
  },
  {
   "metadata": {
    "ExecuteTime": {
     "end_time": "2025-05-26T16:02:50.364135Z",
     "start_time": "2025-05-26T16:02:50.357452Z"
    }
   },
   "cell_type": "code",
   "source": [
    "X = data_.iloc[:,1:]\n",
    "y = data_.iloc[:,0]\n",
    "X_train, X_test, y_train, y_test = train_test_split(X, y, stratify=y, random_state=30)\n",
    "print(X_train.shape, y_train.shape, X_test.shape, y_test.shape)\n",
    "y_train.value_counts()"
   ],
   "id": "b17842b7e9bce996",
   "outputs": [
    {
     "name": "stdout",
     "output_type": "stream",
     "text": [
      "(666, 7) (666,) (223, 7) (223,)\n"
     ]
    },
    {
     "data": {
      "text/plain": [
       "survived\n",
       "-1    411\n",
       " 1    255\n",
       "Name: count, dtype: int64"
      ]
     },
     "execution_count": 3,
     "metadata": {},
     "output_type": "execute_result"
    }
   ],
   "execution_count": 3
  },
  {
   "metadata": {
    "ExecuteTime": {
     "end_time": "2025-05-26T16:03:03.787136Z",
     "start_time": "2025-05-26T16:03:03.783708Z"
    }
   },
   "cell_type": "code",
   "source": "y_train",
   "id": "92f1203630aca500",
   "outputs": [
    {
     "data": {
      "text/plain": [
       "567   -1\n",
       "597   -1\n",
       "170   -1\n",
       "621    1\n",
       "271    1\n",
       "      ..\n",
       "566   -1\n",
       "668   -1\n",
       "792   -1\n",
       "372   -1\n",
       "406   -1\n",
       "Name: survived, Length: 666, dtype: int64"
      ]
     },
     "execution_count": 5,
     "metadata": {},
     "output_type": "execute_result"
    }
   ],
   "execution_count": 5
  },
  {
   "metadata": {
    "ExecuteTime": {
     "end_time": "2025-05-26T11:18:02.154415Z",
     "start_time": "2025-05-26T11:18:01.920504Z"
    }
   },
   "cell_type": "code",
   "source": [
    "model = custom_EFSVM(C=10, beta=0.01, k=10, m=10, gamma=0.1, type_='rbf')\n",
    "\n",
    "model.solver(X_train, y_train)"
   ],
   "id": "df05fefab11d44b3",
   "outputs": [],
   "execution_count": 5
  },
  {
   "metadata": {
    "ExecuteTime": {
     "end_time": "2025-05-26T11:18:05.773057Z",
     "start_time": "2025-05-26T11:18:05.763183Z"
    }
   },
   "cell_type": "code",
   "source": [
    "y_pred = model.predict(X_test)\n",
    "\n",
    "accuracy = accuracy_score(y_test, y_pred)\n",
    "f1 = f1_score(y_test, y_pred)\n",
    "\n",
    "print(f'F1 Score: {f1}')\n",
    "print(f'Accuracy: {accuracy}')"
   ],
   "id": "a78904ffcab1d1e2",
   "outputs": [
    {
     "name": "stdout",
     "output_type": "stream",
     "text": [
      "F1 Score: 0.73224043715847\n",
      "Accuracy: 0.7802690582959642\n"
     ]
    }
   ],
   "execution_count": 6
  },
  {
   "metadata": {},
   "cell_type": "markdown",
   "source": [
    "F1 Score: 0.7231638418079096\n",
    "Accuracy: 0.7802690582959642"
   ],
   "id": "cb67ad694b32b6"
  },
  {
   "metadata": {},
   "cell_type": "markdown",
   "source": [
    "F1 Score: 0.7231638418079096\n",
    "Accuracy: 0.7802690582959642"
   ],
   "id": "25d165b1efb9f988"
  },
  {
   "metadata": {},
   "cell_type": "code",
   "execution_count": null,
   "source": "",
   "id": "b4b43ab5cc270b0a",
   "outputs": []
  }
 ],
 "metadata": {
  "kernelspec": {
   "display_name": "Python 3",
   "language": "python",
   "name": "python3"
  },
  "language_info": {
   "codemirror_mode": {
    "name": "ipython",
    "version": 2
   },
   "file_extension": ".py",
   "mimetype": "text/x-python",
   "name": "python",
   "nbconvert_exporter": "python",
   "pygments_lexer": "ipython2",
   "version": "2.7.6"
  }
 },
 "nbformat": 4,
 "nbformat_minor": 5
}
